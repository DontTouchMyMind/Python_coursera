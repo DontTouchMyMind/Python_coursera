{
 "cells": [
  {
   "cell_type": "markdown",
   "metadata": {},
   "source": [
    "### Магические методы"
   ]
  },
  {
   "cell_type": "code",
   "execution_count": 1,
   "metadata": {},
   "outputs": [
    {
     "name": "stdout",
     "output_type": "stream",
     "text": [
      "{'name': 'Jane Doe', 'email': 'janedoe@example.com'}\n"
     ]
    }
   ],
   "source": [
    "class User:\n",
    "    def __init__(self, name, email):\n",
    "        self.name = name\n",
    "        self.email = email\n",
    "    \n",
    "    def get_email_data(self):\n",
    "        return {\n",
    "            'name': self.name,\n",
    "            'email': self.email\n",
    "        }\n",
    "jane = User('Jane Doe', 'janedoe@example.com')\n",
    "print(jane.get_email_data())"
   ]
  },
  {
   "cell_type": "code",
   "execution_count": 2,
   "metadata": {},
   "outputs": [
    {
     "data": {
      "text/plain": [
       "True"
      ]
     },
     "execution_count": 2,
     "metadata": {},
     "output_type": "execute_result"
    }
   ],
   "source": [
    "class Singleton:\n",
    "    instance = None\n",
    "    \n",
    "    def __new__(cls):\n",
    "        if cls.instance is None:\n",
    "            cls.instance = super().__new__(cls)\n",
    "        \n",
    "        return cls.instance\n",
    "\n",
    "a = Singleton()\n",
    "b = Singleton()\n",
    "\n",
    "a is b"
   ]
  },
  {
   "cell_type": "code",
   "execution_count": 3,
   "metadata": {},
   "outputs": [
    {
     "name": "stdout",
     "output_type": "stream",
     "text": [
      "Jane Doe <janedoe@example.com>\n"
     ]
    }
   ],
   "source": [
    "class User:\n",
    "    def __init__(self, name, email):\n",
    "        self.name = name\n",
    "        self.email = email\n",
    "    \n",
    "    def __str__(self):\n",
    "        return f'{self.name} <{self.email}>'\n",
    "\n",
    "jane = User('Jane Doe', 'janedoe@example.com')\n",
    "print(jane)"
   ]
  },
  {
   "cell_type": "code",
   "execution_count": 4,
   "metadata": {},
   "outputs": [
    {
     "name": "stdout",
     "output_type": "stream",
     "text": [
      "True\n",
      "5350169082615400323\n",
      "5350169082615400323\n"
     ]
    }
   ],
   "source": [
    "class User:\n",
    "    def __init__(self, name, email):\n",
    "        self.name = name\n",
    "        self.email = email\n",
    "    \n",
    "    def __hash__(self):\n",
    "        return hash(self.email)\n",
    "    \n",
    "    def __eq__(self, obj):\n",
    "        return self.email == obj.email\n",
    "\n",
    "jane = User('Jane Doe', 'jdoe@example.com')\n",
    "joe = User('Joe Doe', 'jdoe@example.com')\n",
    "\n",
    "print(jane == joe)    # __eq__\n",
    "print(hash(jane))\n",
    "print(hash(joe))"
   ]
  },
  {
   "cell_type": "code",
   "execution_count": 5,
   "metadata": {},
   "outputs": [
    {
     "name": "stdout",
     "output_type": "stream",
     "text": [
      "{<__main__.User object at 0x7f2e823172e8>: 'Joe Doe'}\n"
     ]
    }
   ],
   "source": [
    "user_email_map = {user: user.name for user in [jane, joe]}\n",
    "print(user_email_map)"
   ]
  },
  {
   "cell_type": "markdown",
   "metadata": {},
   "source": [
    "### Методы определяющие доступ к атрибутам"
   ]
  },
  {
   "cell_type": "code",
   "execution_count": 6,
   "metadata": {},
   "outputs": [
    {
     "name": "stdout",
     "output_type": "stream",
     "text": [
      "nope\n",
      "nope\n"
     ]
    }
   ],
   "source": [
    "class Reseacher:\n",
    "    def __getattr__(self, name):   # Когда атрибут, кот. мы пытаемся получить не найден.\n",
    "        return 'Nothing found :/'\n",
    "    def __getattribute__(self, name): # Вызывается в любом случае! Определять логирование атрибутов\n",
    "        return 'nope'\n",
    "\n",
    "obj = Reseacher()\n",
    "print(obj.attr)\n",
    "print(obj.method)"
   ]
  },
  {
   "cell_type": "code",
   "execution_count": 7,
   "metadata": {},
   "outputs": [
    {
     "name": "stdout",
     "output_type": "stream",
     "text": [
      "Looking for attr\n",
      "Nothing found :/\n",
      "Looking for method\n",
      "Nothing found :/\n"
     ]
    }
   ],
   "source": [
    "class Reseacher:\n",
    "    \n",
    "    def __getattr__(self, name):\n",
    "        return 'Nothing found :/'\n",
    "    \n",
    "    def __getattribute__(self, name):\n",
    "        print(f'Looking for {name}')\n",
    "        return object.__getattribute__(self, name)\n",
    "    \n",
    "obj = Reseacher()\n",
    "print(obj.attr)\n",
    "print(obj.method)"
   ]
  },
  {
   "cell_type": "code",
   "execution_count": 8,
   "metadata": {},
   "outputs": [
    {
     "name": "stdout",
     "output_type": "stream",
     "text": [
      "Not gonna set math\n"
     ]
    }
   ],
   "source": [
    "class Ignorant:\n",
    "    def __setattr__(self, name, value):   # Определяет поведение при присвании значеня атрибуту.\n",
    "        print(f'Not gonna set {name}')\n",
    "\n",
    "obj = Ignorant()\n",
    "obj.math = True"
   ]
  },
  {
   "cell_type": "code",
   "execution_count": 9,
   "metadata": {},
   "outputs": [
    {
     "name": "stdout",
     "output_type": "stream",
     "text": [
      "GoodBye attr, you were 10!\n"
     ]
    }
   ],
   "source": [
    "class Polite:\n",
    "    def __delattr__(self, name):    # Определяет повидене, когда мы пытаемся удалить какойто атрибут объекта.\n",
    "        value = getattr(self, name)\n",
    "        print(f'GoodBye {name}, you were {value}!')\n",
    "        # Напр: можем каскадно удать объекты связанные с нашим классом.\n",
    "        object.__delattr__(self, name)\n",
    "\n",
    "obj = Polite()\n",
    "obj.attr = 10\n",
    "del obj.attr"
   ]
  },
  {
   "cell_type": "code",
   "execution_count": 10,
   "metadata": {},
   "outputs": [],
   "source": [
    "class Logger:\n",
    "    def __init__(self, filename):\n",
    "        self.filename = filename\n",
    "        \n",
    "#     def __call__(self, func):    # Определяет поведение, при вызове класса.\n",
    "#         with open(self.filename, 'w') as f:\n",
    "#             f.write('Oh Danny Boy...')\n",
    "#         return func\n",
    "    \n",
    "    def __call__(self, func):\n",
    "        def wrapped(*args, **kwargs):\n",
    "            with open(self.filename, 'a') as f:\n",
    "                f.write('Oh Danny boy...')\n",
    "\n",
    "            return func(*args, *kwargs)\n",
    "    return wrapped\n",
    "\n",
    "logger = Logger('log.txt')\n",
    "\n",
    "@logger\n",
    "def completely_uselless_function():\n",
    "    pass"
   ]
  },
  {
   "cell_type": "markdown",
   "metadata": {},
   "source": [
    "### Прегрузка операторов"
   ]
  },
  {
   "cell_type": "code",
   "execution_count": 13,
   "metadata": {},
   "outputs": [
    {
     "name": "stdout",
     "output_type": "stream",
     "text": [
      "30.427800112445595\n",
      "30.50482090947012\n",
      "29.563026342126015\n",
      "29.790693277634134\n",
      "29.701529297378784\n"
     ]
    }
   ],
   "source": [
    "import random\n",
    "\n",
    "\n",
    "class NoisyInt:\n",
    "    \n",
    "    def __init__(self, value):\n",
    "        self.value = value\n",
    "        \n",
    "    def __add__(self, obj):\n",
    "        noise = random.uniform(-1, 1)\n",
    "        return self.value + obj.value + noise\n",
    "\n",
    "a = NoisyInt(10)\n",
    "b = NoisyInt(20)\n",
    "\n",
    "for _ in range(5):\n",
    "    print(a + b)"
   ]
  },
  {
   "cell_type": "code",
   "execution_count": 14,
   "metadata": {},
   "outputs": [
    {
     "name": "stdout",
     "output_type": "stream",
     "text": [
      "1\n"
     ]
    }
   ],
   "source": [
    "class PascalList:\n",
    "    def __init__(self, original_list=None):\n",
    "        self.container = original_list or []\n",
    "    # Определяем повидение при обращению по индексу.\n",
    "    def __getitem__(self, index):\n",
    "        return self.container[index - 1]\n",
    "    \n",
    "    def __setitem__(self, index, value):\n",
    "        self.container[index - 1] = value\n",
    "    \n",
    "    def __str__(self):\n",
    "        return self.container.__str__()\n",
    "\n",
    "numbers = PascalList([1, 2, 3, 4, 5])\n",
    "print(numbers[1])"
   ]
  },
  {
   "cell_type": "code",
   "execution_count": 15,
   "metadata": {},
   "outputs": [
    {
     "name": "stdout",
     "output_type": "stream",
     "text": [
      "[1, 2, 3, 4, 25]\n"
     ]
    }
   ],
   "source": [
    "numbers[5] = 25\n",
    "print(numbers)"
   ]
  },
  {
   "cell_type": "code",
   "execution_count": null,
   "metadata": {},
   "outputs": [],
   "source": []
  }
 ],
 "metadata": {
  "kernelspec": {
   "display_name": "Python 3",
   "language": "python",
   "name": "python3"
  },
  "language_info": {
   "codemirror_mode": {
    "name": "ipython",
    "version": 3
   },
   "file_extension": ".py",
   "mimetype": "text/x-python",
   "name": "python",
   "nbconvert_exporter": "python",
   "pygments_lexer": "ipython3",
   "version": "3.6.9"
  }
 },
 "nbformat": 4,
 "nbformat_minor": 4
}
