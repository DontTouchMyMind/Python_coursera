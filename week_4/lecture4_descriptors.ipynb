{
 "cells": [
  {
   "cell_type": "code",
   "execution_count": 1,
   "metadata": {},
   "outputs": [],
   "source": [
    "class Descriptor:\n",
    "    \n",
    "    def __get__(self, obj, obj_type):\n",
    "        print('get')\n",
    "        \n",
    "    def __set__(self, obj, value):\n",
    "        print('set')\n",
    "    \n",
    "    def __delete__(self, obj):\n",
    "        print('delete')\n",
    "\n",
    "class Class:\n",
    "    # Атрибут будет являться дескриптором, \n",
    "    # т.е. переопределено поведение к доступу, присваивании и удалении атрибута.\n",
    "    attr = Descriptor()\n",
    "\n",
    "instance = Class()"
   ]
  },
  {
   "cell_type": "code",
   "execution_count": 2,
   "metadata": {},
   "outputs": [
    {
     "name": "stdout",
     "output_type": "stream",
     "text": [
      "get\n"
     ]
    }
   ],
   "source": [
    "instance.attr"
   ]
  },
  {
   "cell_type": "code",
   "execution_count": 3,
   "metadata": {},
   "outputs": [
    {
     "name": "stdout",
     "output_type": "stream",
     "text": [
      "set\n"
     ]
    }
   ],
   "source": [
    "instance.attr = 10"
   ]
  },
  {
   "cell_type": "code",
   "execution_count": 4,
   "metadata": {},
   "outputs": [
    {
     "name": "stdout",
     "output_type": "stream",
     "text": [
      "delete\n"
     ]
    }
   ],
   "source": [
    "del instance.attr"
   ]
  },
  {
   "cell_type": "code",
   "execution_count": 5,
   "metadata": {},
   "outputs": [
    {
     "name": "stdout",
     "output_type": "stream",
     "text": [
      "100\n"
     ]
    }
   ],
   "source": [
    "class Value:\n",
    "    \n",
    "    def __init__(self):\n",
    "        self.value = None\n",
    "    \n",
    "    @staticmethod\n",
    "    def _prepare_value(value):\n",
    "        return value * 10\n",
    "    \n",
    "    def __get__(self, obj, obj_type): # obj=instance, obj_type=Class\n",
    "        return self.value\n",
    "        \n",
    "    def __set__(self, obj, value):\n",
    "        self.value = self._prepare_value(value)\n",
    "        \n",
    "class Class:\n",
    "    attr = Value()\n",
    "    \n",
    "\n",
    "instance = Class()\n",
    "instance.attr = 10\n",
    "\n",
    "print(instance.attr)"
   ]
  },
  {
   "cell_type": "markdown",
   "metadata": {},
   "source": [
    "#### Написать дескриптор, который пишет в файл все присваемые ему значения. "
   ]
  },
  {
   "cell_type": "code",
   "execution_count": 26,
   "metadata": {},
   "outputs": [
    {
     "name": "stdout",
     "output_type": "stream",
     "text": [
      "150200200\n",
      "200200200\n",
      "200\n",
      "200\n",
      "\n"
     ]
    }
   ],
   "source": [
    "class ImportantValue:\n",
    "    \n",
    "    def __init__(self, amount):\n",
    "        self.amount = amount\n",
    "    \n",
    "    def __get__(self, obj, obj_type):\n",
    "        return self.amount\n",
    "    \n",
    "    def __set__(self, obj, value):\n",
    "        with open('log.txt', 'a') as f:\n",
    "            f.write(str(value) + '\\n')\n",
    "        \n",
    "        self.amount = value\n",
    "    \n",
    "\n",
    "class Account:\n",
    "    amount = ImportantValue(100)\n",
    "    \n",
    "bobs_account = Account()\n",
    "bobs_account.amount = 200\n",
    "\n",
    "with open('log.txt', 'r') as f:\n",
    "    print(f.read())"
   ]
  },
  {
   "cell_type": "markdown",
   "metadata": {},
   "source": [
    "### Функции и методы"
   ]
  },
  {
   "cell_type": "code",
   "execution_count": 19,
   "metadata": {},
   "outputs": [
    {
     "name": "stdout",
     "output_type": "stream",
     "text": [
      "<bound method Class.method of <__main__.Class object at 0x7f7d74890940>>\n",
      "<function Class.method at 0x7f7d740a4620>\n"
     ]
    }
   ],
   "source": [
    "class Class:\n",
    "    def method(self):\n",
    "        pass\n",
    "\n",
    "obj = Class()\n",
    "\n",
    "print(obj.method)   # Bound метод\n",
    "print(Class.method)    # Unbound метод\n",
    "# В bound метод по умолчанию передаётся объект, с которым вызван метод.\n",
    "# он и записывается в атрибут self метода класса."
   ]
  },
  {
   "cell_type": "markdown",
   "metadata": {},
   "source": [
    "#### @property"
   ]
  },
  {
   "cell_type": "code",
   "execution_count": 27,
   "metadata": {},
   "outputs": [
    {
     "name": "stdout",
     "output_type": "stream",
     "text": [
      "Amy Jones\n",
      "<property object at 0x7f7d63eeb4a8>\n"
     ]
    }
   ],
   "source": [
    "class User:\n",
    "    def __init__(self, first_name, last_name):\n",
    "        self.first_name = first_name\n",
    "        self.last_name = last_name\n",
    "    \n",
    "    @property\n",
    "    def full_name(self):\n",
    "        return f'{self.first_name} {self.last_name}'\n",
    "    \n",
    "amy = User('Amy', 'Jones')\n",
    "\n",
    "print(amy.full_name)\n",
    "print(User.full_name)"
   ]
  },
  {
   "cell_type": "code",
   "execution_count": 28,
   "metadata": {},
   "outputs": [],
   "source": [
    "# Создадим свой property\n",
    "class Property:\n",
    "    def __init__(self, getter):\n",
    "        self.getter = getter\n",
    "        \n",
    "    def __get__(self, obj, obj_type=None):\n",
    "        if obj is None:\n",
    "            return self\n",
    "        return self.getter(obj)"
   ]
  },
  {
   "cell_type": "code",
   "execution_count": 29,
   "metadata": {},
   "outputs": [],
   "source": [
    "class Class:\n",
    "    @property\n",
    "    def original(self):\n",
    "        return 'original'\n",
    "    \n",
    "    @Property\n",
    "    def custom_sugar(self):\n",
    "        return 'custom_sugar'\n",
    "    \n",
    "    def custom_pure(self):\n",
    "        return 'custon pure'\n",
    "    \n",
    "    custom_pure = Property(custom_pure)"
   ]
  },
  {
   "cell_type": "code",
   "execution_count": 31,
   "metadata": {},
   "outputs": [
    {
     "name": "stdout",
     "output_type": "stream",
     "text": [
      "original\n",
      "custom_sugar\n",
      "custon pure\n"
     ]
    }
   ],
   "source": [
    "obj = Class()\n",
    "\n",
    "print(obj.original)\n",
    "print(obj.custom_sugar)\n",
    "print(obj.custom_pure)"
   ]
  },
  {
   "cell_type": "markdown",
   "metadata": {},
   "source": [
    "#### StaticMethod and ClassMethod"
   ]
  },
  {
   "cell_type": "code",
   "execution_count": 32,
   "metadata": {},
   "outputs": [],
   "source": [
    "class StaticMethod:\n",
    "    def __init__(self, func):\n",
    "        self.func = func\n",
    "    def __get__(self, obj, obj_type=None):\n",
    "        return self.func"
   ]
  },
  {
   "cell_type": "code",
   "execution_count": 33,
   "metadata": {},
   "outputs": [],
   "source": [
    "class ClassMethod:\n",
    "    def __init__(self, func):\n",
    "        self.func = func\n",
    "    \n",
    "    def __get__(self, obj, obj_type=None):\n",
    "        if obj_type is None:\n",
    "            obj_type = type(obj)\n",
    "            \n",
    "        def new_func(*args, **kwargs):\n",
    "            return self.func(obj_type, *args, **kwargs)\n",
    "        \n",
    "        return new_func"
   ]
  },
  {
   "cell_type": "markdown",
   "metadata": {},
   "source": [
    "#### __slots__"
   ]
  },
  {
   "cell_type": "code",
   "execution_count": 34,
   "metadata": {},
   "outputs": [
    {
     "ename": "AttributeError",
     "evalue": "'Class' object has no attribute 'luke'",
     "output_type": "error",
     "traceback": [
      "\u001b[0;31m---------------------------------------------------------------------------\u001b[0m",
      "\u001b[0;31mAttributeError\u001b[0m                            Traceback (most recent call last)",
      "\u001b[0;32m<ipython-input-34-a4d1b543753f>\u001b[0m in \u001b[0;36m<module>\u001b[0;34m\u001b[0m\n\u001b[1;32m      8\u001b[0m \u001b[0mobj\u001b[0m \u001b[0;34m=\u001b[0m \u001b[0mClass\u001b[0m\u001b[0;34m(\u001b[0m\u001b[0;34m)\u001b[0m\u001b[0;34m\u001b[0m\u001b[0;34m\u001b[0m\u001b[0m\n\u001b[1;32m      9\u001b[0m \u001b[0;34m\u001b[0m\u001b[0m\n\u001b[0;32m---> 10\u001b[0;31m \u001b[0mobj\u001b[0m\u001b[0;34m.\u001b[0m\u001b[0mluke\u001b[0m \u001b[0;34m=\u001b[0m \u001b[0;34m'the chosen too'\u001b[0m\u001b[0;34m\u001b[0m\u001b[0;34m\u001b[0m\u001b[0m\n\u001b[0m",
      "\u001b[0;31mAttributeError\u001b[0m: 'Class' object has no attribute 'luke'"
     ]
    }
   ],
   "source": [
    "class Class:\n",
    "    \n",
    "    __slots__ = ['anakin']    # Определить класс с жестко заданным набором аттрибутов.\n",
    "    # При создании класса у него создается словарь в кот. мы записываем атрибуты, которые добавляются в объект.\n",
    "    def __init__(self):\n",
    "        self.anakin = 'the chosen one'\n",
    "\n",
    "obj = Class()\n",
    "\n",
    "obj.luke = 'the chosen too'"
   ]
  },
  {
   "cell_type": "code",
   "execution_count": null,
   "metadata": {},
   "outputs": [],
   "source": []
  }
 ],
 "metadata": {
  "kernelspec": {
   "display_name": "Python 3",
   "language": "python",
   "name": "python3"
  },
  "language_info": {
   "codemirror_mode": {
    "name": "ipython",
    "version": 3
   },
   "file_extension": ".py",
   "mimetype": "text/x-python",
   "name": "python",
   "nbconvert_exporter": "python",
   "pygments_lexer": "ipython3",
   "version": "3.6.9"
  }
 },
 "nbformat": 4,
 "nbformat_minor": 4
}
