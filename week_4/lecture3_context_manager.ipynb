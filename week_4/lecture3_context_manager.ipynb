{
 "cells": [
  {
   "cell_type": "markdown",
   "metadata": {},
   "source": [
    "### Контекстные менеджеры"
   ]
  },
  {
   "cell_type": "code",
   "execution_count": 1,
   "metadata": {},
   "outputs": [],
   "source": [
    "with open('access_log.log', 'a') as f:\n",
    "    f.write('New Access')"
   ]
  },
  {
   "cell_type": "code",
   "execution_count": 2,
   "metadata": {},
   "outputs": [],
   "source": [
    "class open_file:   # Название класса с маленькой буквы, т.к. это контекстный менеджер.\n",
    "    def __init__(self, filename, mode):\n",
    "        self.f = open(filename, mode)\n",
    "    \n",
    "    def __enter__(self):    # Говорит о том, что проиходит в начале контекстного менеджера\n",
    "        return self.f    # Записываем что проиходит в переменной f (as f)\n",
    "    \n",
    "    def __exit__(self, *args):    # Говорит о том, что проиходит в конце контекстного менеджера\n",
    "        self.f.close()"
   ]
  },
  {
   "cell_type": "code",
   "execution_count": 6,
   "metadata": {},
   "outputs": [],
   "source": [
    "with open_file('test.log', 'w') as f:\n",
    "    f.write('Inside \"open_file\" context meneger')"
   ]
  },
  {
   "cell_type": "code",
   "execution_count": 7,
   "metadata": {},
   "outputs": [
    {
     "name": "stdout",
     "output_type": "stream",
     "text": [
      "['Inside \"open_file\" context meneger']\n"
     ]
    }
   ],
   "source": [
    "with open_file('test.log', 'r') as f:\n",
    "    print(f.readlines())"
   ]
  },
  {
   "cell_type": "code",
   "execution_count": 8,
   "metadata": {},
   "outputs": [
    {
     "name": "stdout",
     "output_type": "stream",
     "text": [
      "Nothing happend.\n"
     ]
    }
   ],
   "source": [
    "# Контекстный менеджер позволяет управлять исключениями, которые проиходят внитри.\n",
    "class suppress_exception:\n",
    "    def __init__(self, exc_type):\n",
    "        self.exc_type = exc_type\n",
    "    \n",
    "    def __enter__(self):\n",
    "        return\n",
    "    \n",
    "    def __exit__(self, exc_type, exc_value, traceback):\n",
    "        # Будем подавлять исключение, которое ожидаем\n",
    "        if exc_type == self.exc_type:\n",
    "            print('Nothing happend.')\n",
    "            return True   # Обязательно возвращаем True, что бы код был продолжен и исключение не было выброшено.\n",
    "\n",
    "with suppress_exception(ZeroDivisionError):\n",
    "    number = 1 / 0"
   ]
  },
  {
   "cell_type": "code",
   "execution_count": 9,
   "metadata": {},
   "outputs": [],
   "source": [
    "# Такой контекстный менеджер уже есть в библиотеке.\n",
    "import contextlib\n",
    "\n",
    "\n",
    "with contextlib.suppress(ValueError):\n",
    "    raise ValueError"
   ]
  },
  {
   "cell_type": "code",
   "execution_count": 13,
   "metadata": {},
   "outputs": [
    {
     "name": "stdout",
     "output_type": "stream",
     "text": [
      "Cureent time: 1.0010926723480225\n",
      "Elapsed: 2.002410411834717 seconds.\n"
     ]
    }
   ],
   "source": [
    "# Напишим контекстный менеджер который считает время проведенное в нем.\n",
    "import time\n",
    "\n",
    "\n",
    "class timer:\n",
    "    \n",
    "    def __init__(self):\n",
    "        self.start = time.time()\n",
    "    \n",
    "    def current_time(self):\n",
    "        return time.time() - self.start\n",
    "        \n",
    "    def __enter__(self):\n",
    "        return self\n",
    "    \n",
    "    def __exit__(self, *args):\n",
    "        print(f'Elapsed: {time.time() - self.start} seconds.')\n",
    "\n",
    "    \n",
    "with timer() as t:\n",
    "    time.sleep(1)\n",
    "    print(f'Cureent time: {t.current_time()}')\n",
    "    time.sleep(1)"
   ]
  },
  {
   "cell_type": "code",
   "execution_count": null,
   "metadata": {},
   "outputs": [],
   "source": []
  }
 ],
 "metadata": {
  "kernelspec": {
   "display_name": "Python 3",
   "language": "python",
   "name": "python3"
  },
  "language_info": {
   "codemirror_mode": {
    "name": "ipython",
    "version": 3
   },
   "file_extension": ".py",
   "mimetype": "text/x-python",
   "name": "python",
   "nbconvert_exporter": "python",
   "pygments_lexer": "ipython3",
   "version": "3.6.9"
  }
 },
 "nbformat": 4,
 "nbformat_minor": 4
}
