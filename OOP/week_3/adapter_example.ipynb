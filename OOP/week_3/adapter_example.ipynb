{
 "cells": [
  {
   "cell_type": "code",
   "execution_count": 2,
   "metadata": {},
   "outputs": [],
   "source": [
    "# from System import *\n",
    "import re\n",
    "from abc import ABC, abstractmethod"
   ]
  },
  {
   "cell_type": "code",
   "execution_count": 3,
   "metadata": {},
   "outputs": [],
   "source": [
    "class System:\n",
    "    \"\"\"\n",
    "    Система, которая берет кокой то текст и делает его предварительную оброботку.\n",
    "    И хочет вывести слова в порядке убывания частоты.\n",
    "    \"\"\"\n",
    "    def __init__(self, text):\n",
    "        tmp = re.sub(r'\\W', ' ', text.lower())\n",
    "        tmp = re.sub(r' +', ' ', tmp).strip()\n",
    "        self.text = tmp\n",
    "    \n",
    "    def get_processed_text(self, processor):\n",
    "        result = processor.process_text(self.text)\n",
    "        print(*result, sep = '\\n')\n",
    "        \n",
    "class TextProcessor(ABC):\n",
    "    \"\"\"Обработчик для системы\"\"\"\n",
    "    @abstractmethod\n",
    "    def process_text(self, text):\n",
    "        pass"
   ]
  },
  {
   "cell_type": "code",
   "execution_count": 10,
   "metadata": {},
   "outputs": [],
   "source": [
    "class WordCounter:\n",
    "    \"\"\"Счетчик слов.\"\"\"\n",
    "    def count_words(self, text):\n",
    "        self.__words = dict()\n",
    "        for word in text.split():\n",
    "            self.__words[word] = self.__words.get(word, 0) + 1\n",
    "    \n",
    "    def get_count(self, word):\n",
    "        \"\"\"Сколько раз встретилось конкретное слово.\"\"\"\n",
    "        return self.__words.get(word, 0)\n",
    "    \n",
    "    def get_all_words(self):\n",
    "        \"\"\"Выводит частотный словарь всех встреченных слов\"\"\"\n",
    "        return self.__words.copy()"
   ]
  },
  {
   "cell_type": "code",
   "execution_count": 7,
   "metadata": {},
   "outputs": [],
   "source": [
    "text = \"Lorem Ipsum is simply dummy text of the printing and typesetting industry. Lorem Ipsum has been the industry's standard dummy text ever since the 1500s, when an unknown printer took a galley of type and scrambled it to make a type specimen book. It has survived not only five centuries, but also the leap into electronic typesetting, remaining essentially unchanged. It was popularised in the 1960s with the release of Letraset sheets containing Lorem Ipsum passages, and more recently with desktop publishing software like Aldus PageMaker including versions of Lorem Ipsum.\"\n"
   ]
  },
  {
   "cell_type": "code",
   "execution_count": 8,
   "metadata": {},
   "outputs": [],
   "source": [
    "# Создаем объект системы и передадим в него текст\n",
    "system = System(text)"
   ]
  },
  {
   "cell_type": "code",
   "execution_count": 9,
   "metadata": {},
   "outputs": [
    {
     "data": {
      "text/plain": [
       "'lorem ipsum is simply dummy text of the printing and typesetting industry lorem ipsum has been the industry s standard dummy text ever since the 1500s when an unknown printer took a galley of type and scrambled it to make a type specimen book it has survived not only five centuries but also the leap into electronic typesetting remaining essentially unchanged it was popularised in the 1960s with the release of letraset sheets containing lorem ipsum passages and more recently with desktop publishing software like aldus pagemaker including versions of lorem ipsum'"
      ]
     },
     "execution_count": 9,
     "metadata": {},
     "output_type": "execute_result"
    }
   ],
   "source": [
    "system.text"
   ]
  },
  {
   "cell_type": "code",
   "execution_count": 11,
   "metadata": {},
   "outputs": [],
   "source": [
    "# Создадим обработчик\n",
    "counter = WordCounter()"
   ]
  },
  {
   "cell_type": "code",
   "execution_count": 13,
   "metadata": {},
   "outputs": [
    {
     "ename": "AttributeError",
     "evalue": "'WordCounter' object has no attribute 'process_text'",
     "output_type": "error",
     "traceback": [
      "\u001b[0;31m---------------------------------------------------------------------------\u001b[0m",
      "\u001b[0;31mAttributeError\u001b[0m                            Traceback (most recent call last)",
      "\u001b[0;32m<ipython-input-13-4a43e307417b>\u001b[0m in \u001b[0;36m<module>\u001b[0;34m\u001b[0m\n\u001b[1;32m      1\u001b[0m \u001b[0;31m# Попробуем передать обработчик системе.\u001b[0m\u001b[0;34m\u001b[0m\u001b[0;34m\u001b[0m\u001b[0;34m\u001b[0m\u001b[0m\n\u001b[1;32m      2\u001b[0m \u001b[0;31m# Получим ощибку, так как интерфейсы обработчика и системы несовместимы.\u001b[0m\u001b[0;34m\u001b[0m\u001b[0;34m\u001b[0m\u001b[0;34m\u001b[0m\u001b[0m\n\u001b[0;32m----> 3\u001b[0;31m \u001b[0msystem\u001b[0m\u001b[0;34m.\u001b[0m\u001b[0mget_processed_text\u001b[0m\u001b[0;34m(\u001b[0m\u001b[0mcounter\u001b[0m\u001b[0;34m)\u001b[0m\u001b[0;34m\u001b[0m\u001b[0;34m\u001b[0m\u001b[0m\n\u001b[0m",
      "\u001b[0;32m<ipython-input-3-17617e7e2543>\u001b[0m in \u001b[0;36mget_processed_text\u001b[0;34m(self, processor)\u001b[0m\n\u001b[1;32m     10\u001b[0m \u001b[0;34m\u001b[0m\u001b[0m\n\u001b[1;32m     11\u001b[0m     \u001b[0;32mdef\u001b[0m \u001b[0mget_processed_text\u001b[0m\u001b[0;34m(\u001b[0m\u001b[0mself\u001b[0m\u001b[0;34m,\u001b[0m \u001b[0mprocessor\u001b[0m\u001b[0;34m)\u001b[0m\u001b[0;34m:\u001b[0m\u001b[0;34m\u001b[0m\u001b[0;34m\u001b[0m\u001b[0m\n\u001b[0;32m---> 12\u001b[0;31m         \u001b[0mresult\u001b[0m \u001b[0;34m=\u001b[0m \u001b[0mprocessor\u001b[0m\u001b[0;34m.\u001b[0m\u001b[0mprocess_text\u001b[0m\u001b[0;34m(\u001b[0m\u001b[0mself\u001b[0m\u001b[0;34m.\u001b[0m\u001b[0mtext\u001b[0m\u001b[0;34m)\u001b[0m\u001b[0;34m\u001b[0m\u001b[0;34m\u001b[0m\u001b[0m\n\u001b[0m\u001b[1;32m     13\u001b[0m         \u001b[0mprint\u001b[0m\u001b[0;34m(\u001b[0m\u001b[0;34m*\u001b[0m\u001b[0mresult\u001b[0m\u001b[0;34m,\u001b[0m \u001b[0msep\u001b[0m \u001b[0;34m=\u001b[0m \u001b[0;34m'\\n'\u001b[0m\u001b[0;34m)\u001b[0m\u001b[0;34m\u001b[0m\u001b[0;34m\u001b[0m\u001b[0m\n\u001b[1;32m     14\u001b[0m \u001b[0;34m\u001b[0m\u001b[0m\n",
      "\u001b[0;31mAttributeError\u001b[0m: 'WordCounter' object has no attribute 'process_text'"
     ]
    }
   ],
   "source": [
    "# Попробуем передать обработчик системе.\n",
    "# Получим ощибку, так как интерфейсы обработчика и системы несовместимы.\n",
    "system.get_processed_text(counter)"
   ]
  },
  {
   "cell_type": "code",
   "execution_count": 14,
   "metadata": {},
   "outputs": [],
   "source": [
    "# Необходимо создать адаптер, который позволит использовать обработчик в системе."
   ]
  },
  {
   "cell_type": "code",
   "execution_count": 15,
   "metadata": {},
   "outputs": [],
   "source": [
    "class WordCounterAdapter(TextProcessor):\n",
    "    def __init__(self, adaptee):\n",
    "        self.adaptee = adaptee     # Объект, кот. хотим адаптировать и сохранять в некую переменную класса.\n",
    "        \n",
    "    def process_text(self, text):\n",
    "        self.adaptee.count_words(text)\n",
    "        words = self.adaptee.get_all_words().keys()\n",
    "        return sorted(words,\n",
    "                      key=lambda x: self.adaptee.get_count(x),\n",
    "                     reverse=True)"
   ]
  },
  {
   "cell_type": "code",
   "execution_count": 16,
   "metadata": {},
   "outputs": [],
   "source": [
    "adapter = WordCounterAdapter(counter)"
   ]
  },
  {
   "cell_type": "code",
   "execution_count": 17,
   "metadata": {},
   "outputs": [
    {
     "name": "stdout",
     "output_type": "stream",
     "text": [
      "the\n",
      "lorem\n",
      "ipsum\n",
      "of\n",
      "and\n",
      "it\n",
      "dummy\n",
      "text\n",
      "typesetting\n",
      "industry\n",
      "has\n",
      "a\n",
      "type\n",
      "with\n",
      "is\n",
      "simply\n",
      "printing\n",
      "been\n",
      "s\n",
      "standard\n",
      "ever\n",
      "since\n",
      "1500s\n",
      "when\n",
      "an\n",
      "unknown\n",
      "printer\n",
      "took\n",
      "galley\n",
      "scrambled\n",
      "to\n",
      "make\n",
      "specimen\n",
      "book\n",
      "survived\n",
      "not\n",
      "only\n",
      "five\n",
      "centuries\n",
      "but\n",
      "also\n",
      "leap\n",
      "into\n",
      "electronic\n",
      "remaining\n",
      "essentially\n",
      "unchanged\n",
      "was\n",
      "popularised\n",
      "in\n",
      "1960s\n",
      "release\n",
      "letraset\n",
      "sheets\n",
      "containing\n",
      "passages\n",
      "more\n",
      "recently\n",
      "desktop\n",
      "publishing\n",
      "software\n",
      "like\n",
      "aldus\n",
      "pagemaker\n",
      "including\n",
      "versions\n"
     ]
    }
   ],
   "source": [
    "system.get_processed_text(adapter)"
   ]
  },
  {
   "cell_type": "code",
   "execution_count": null,
   "metadata": {},
   "outputs": [],
   "source": []
  }
 ],
 "metadata": {
  "kernelspec": {
   "display_name": "Python 3",
   "language": "python",
   "name": "python3"
  },
  "language_info": {
   "codemirror_mode": {
    "name": "ipython",
    "version": 3
   },
   "file_extension": ".py",
   "mimetype": "text/x-python",
   "name": "python",
   "nbconvert_exporter": "python",
   "pygments_lexer": "ipython3",
   "version": "3.6.9"
  }
 },
 "nbformat": 4,
 "nbformat_minor": 4
}
