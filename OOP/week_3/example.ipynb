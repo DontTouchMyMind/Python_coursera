{
 "cells": [
  {
   "cell_type": "code",
   "execution_count": 1,
   "metadata": {},
   "outputs": [],
   "source": [
    "from abc import ABC, abstractmethod"
   ]
  },
  {
   "cell_type": "code",
   "execution_count": 18,
   "metadata": {},
   "outputs": [],
   "source": [
    "class Creature(ABC):\n",
    "    \n",
    "    @abstractmethod\n",
    "    def feed(self):\n",
    "        pass\n",
    "    \n",
    "    @abstractmethod\n",
    "    def move(self):\n",
    "        pass\n",
    "    \n",
    "    @abstractmethod\n",
    "    def make_noise(self):\n",
    "        pass"
   ]
  },
  {
   "cell_type": "code",
   "execution_count": 19,
   "metadata": {},
   "outputs": [],
   "source": [
    "class Animal(Creature):\n",
    "    \n",
    "    def feed(self):\n",
    "        print('I eat grass')\n",
    "        \n",
    "    def move(self):\n",
    "        print('I walk forward')\n",
    "        \n",
    "    def make_noise(self):\n",
    "        print('WOOO!')"
   ]
  },
  {
   "cell_type": "code",
   "execution_count": 26,
   "metadata": {},
   "outputs": [],
   "source": [
    "class AbstractDecorator(Creature):\n",
    "    \n",
    "    def __init__(self, base):\n",
    "        self.base = base\n",
    "    \n",
    "    def feed(self):\n",
    "        self.base.feed()\n",
    "    \n",
    "    def move(self):\n",
    "        self.base.move()\n",
    "    \n",
    "    def make_noise(self):\n",
    "        self.base.make_noise()"
   ]
  },
  {
   "cell_type": "code",
   "execution_count": 27,
   "metadata": {},
   "outputs": [],
   "source": [
    "class Swimming(AbstractDecorator):\n",
    "    \n",
    "    def move(self):\n",
    "        print('I swim forward')\n",
    "        \n",
    "    def make_noise(self):\n",
    "        print('...')\n",
    "\n",
    "        \n",
    "\n",
    "class Predator(AbstractDecorator):\n",
    "    \n",
    "    def feed(self):\n",
    "        print('I eat other animals')\n",
    "        \n",
    "\n",
    "class Fast(AbstractDecorator):\n",
    "    \n",
    "    def move(self):\n",
    "        self.base.move()\n",
    "        print('Fast!')"
   ]
  },
  {
   "cell_type": "code",
   "execution_count": 28,
   "metadata": {},
   "outputs": [],
   "source": [
    "animal = Animal()"
   ]
  },
  {
   "cell_type": "code",
   "execution_count": 29,
   "metadata": {},
   "outputs": [
    {
     "name": "stdout",
     "output_type": "stream",
     "text": [
      "I walk forward\n",
      "I eat grass\n",
      "WOOO!\n"
     ]
    }
   ],
   "source": [
    "animal.move()\n",
    "animal.feed()\n",
    "animal.make_noise()"
   ]
  },
  {
   "cell_type": "code",
   "execution_count": 30,
   "metadata": {},
   "outputs": [],
   "source": [
    "swimming = Swimming(animal)"
   ]
  },
  {
   "cell_type": "code",
   "execution_count": 31,
   "metadata": {},
   "outputs": [
    {
     "name": "stdout",
     "output_type": "stream",
     "text": [
      "I swim forward\n",
      "I eat grass\n",
      "...\n"
     ]
    }
   ],
   "source": [
    "swimming.move()\n",
    "swimming.feed()\n",
    "swimming.make_noise()"
   ]
  },
  {
   "cell_type": "code",
   "execution_count": 32,
   "metadata": {},
   "outputs": [],
   "source": [
    "predator = Predator(swimming)"
   ]
  },
  {
   "cell_type": "code",
   "execution_count": 33,
   "metadata": {},
   "outputs": [
    {
     "name": "stdout",
     "output_type": "stream",
     "text": [
      "I swim forward\n",
      "I eat other animals\n",
      "...\n"
     ]
    }
   ],
   "source": [
    "predator.move()\n",
    "predator.feed()\n",
    "predator.make_noise()"
   ]
  },
  {
   "cell_type": "code",
   "execution_count": 34,
   "metadata": {},
   "outputs": [],
   "source": [
    "fast = Fast(predator)"
   ]
  },
  {
   "cell_type": "code",
   "execution_count": 35,
   "metadata": {},
   "outputs": [
    {
     "name": "stdout",
     "output_type": "stream",
     "text": [
      "I swim forward\n",
      "Fast!\n",
      "I eat other animals\n",
      "...\n"
     ]
    }
   ],
   "source": [
    "fast.move()\n",
    "fast.feed()\n",
    "fast.make_noise()"
   ]
  },
  {
   "cell_type": "code",
   "execution_count": 36,
   "metadata": {},
   "outputs": [],
   "source": [
    "faster = Fast(fast)"
   ]
  },
  {
   "cell_type": "code",
   "execution_count": 37,
   "metadata": {},
   "outputs": [
    {
     "name": "stdout",
     "output_type": "stream",
     "text": [
      "I swim forward\n",
      "Fast!\n",
      "Fast!\n",
      "I eat other animals\n",
      "...\n"
     ]
    }
   ],
   "source": [
    "faster.move()\n",
    "faster.feed()\n",
    "faster.make_noise()"
   ]
  },
  {
   "cell_type": "code",
   "execution_count": 40,
   "metadata": {},
   "outputs": [],
   "source": [
    "faster.base.base = faster.base.base.base"
   ]
  },
  {
   "cell_type": "code",
   "execution_count": 41,
   "metadata": {},
   "outputs": [
    {
     "name": "stdout",
     "output_type": "stream",
     "text": [
      "I swim forward\n",
      "Fast!\n",
      "Fast!\n",
      "I eat grass\n",
      "...\n"
     ]
    }
   ],
   "source": [
    "faster.move()\n",
    "faster.feed()\n",
    "faster.make_noise()\n"
   ]
  },
  {
   "cell_type": "code",
   "execution_count": null,
   "metadata": {},
   "outputs": [],
   "source": []
  }
 ],
 "metadata": {
  "kernelspec": {
   "display_name": "Python 3",
   "language": "python",
   "name": "python3"
  },
  "language_info": {
   "codemirror_mode": {
    "name": "ipython",
    "version": 3
   },
   "file_extension": ".py",
   "mimetype": "text/x-python",
   "name": "python",
   "nbconvert_exporter": "python",
   "pygments_lexer": "ipython3",
   "version": "3.6.9"
  }
 },
 "nbformat": 4,
 "nbformat_minor": 4
}
